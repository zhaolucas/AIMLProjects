{
 "cells": [
  {
   "cell_type": "markdown",
   "metadata": {},
   "source": [
    "### Machine Learning SOPs "
   ]
  },
  {
   "cell_type": "code",
   "execution_count": null,
   "metadata": {},
   "outputs": [],
   "source": []
  },
  {
   "cell_type": "code",
   "execution_count": 22,
   "metadata": {},
   "outputs": [],
   "source": [
    "#essential libraries  \n",
    "import pandas as pd \n",
    "import seaborn as sns \n",
    "import matplotlib.pyplot as plt \n",
    "import numpy as np \n",
    "\n",
    "#linear regression packages \n",
    "from sklearn.linear_model import LinearRegression # To build linear model for prediction\n",
    "from sklearn.metrics import mean_squared_error, r2_score, mean_absolute_error # To check model performance\n",
    "from sklearn.model_selection import train_test_split\n",
    "\n",
    "#logistic regression packages \n",
    "from sklearn.linear_model import LogisticRegression\n",
    "from sklearn.tree import DecisionTreeClassifier\n",
    "from sklearn import tree\n",
    "\n",
    "from sklearn.tree import DecisionTreeClassifier\n",
    "from sklearn.model_selection import train_test_split\n",
    "from sklearn.metrics import confusion_matrix, classification_report\n",
    "from sklearn.metrics import accuracy_score,precision_score,recall_score,f1_score\n",
    "import scipy.stats as stats\n",
    "from sklearn import tree\n",
    "from sklearn.model_selection import GridSearchCV\n",
    "from sklearn import metrics\n",
    "from sklearn.metrics import accuracy_score, recall_score, precision_score, roc_auc_score, roc_curve, confusion_matrix, precision_recall_curve\n",
    "\n",
    "\n",
    "#stats analysis \n",
    "import statsmodels.stats.api as sms\n",
    "from statsmodels.stats.outliers_influence import variance_inflation_factor\n",
    "from statsmodels.tools.tools import add_constant\n"
   ]
  },
  {
   "cell_type": "code",
   "execution_count": null,
   "metadata": {},
   "outputs": [],
   "source": [
    "# Removes the limit from the number of displayed rows.\n",
    "pd.set_option(\"display.max_columns\", None)\n",
    "\n",
    "# Changes the limit of number of displayed columns to 200\n",
    "pd.set_option(\"display.max_rows\", 200)\n",
    "\n",
    "import warnings\n",
    "warnings.filterwarnings(\"ignore\")"
   ]
  },
  {
   "cell_type": "code",
   "execution_count": 18,
   "metadata": {},
   "outputs": [],
   "source": [
    "import random\n",
    "random.randint(3,333)\n",
    "random.random()\n",
    "random.seed()"
   ]
  },
  {
   "cell_type": "code",
   "execution_count": null,
   "metadata": {},
   "outputs": [],
   "source": [
    "STEP 0: READ THE FILE \n",
    "//\n",
    "df= pd.read_csv('file_name.csv') #read csv\n",
    "//\n",
    "df= pd.read_excel('file_name.xlsx') #read excel pr json. sql\n",
    "//\n",
    "path= \"https://archive.ics.uci.edu/ml/machine-learning-database/autos/imports-85.data\"\n",
    "df = pd.read_csv(path,header=None) #read html/url\n",
    "headers = ['column name 1','column name 2',etc]\n",
    "df.columns = headers #change header names \n",
    "//\n",
    "df= pd.read_csv('file_name.txt', delimiter='\\t') #read txt with separators, e.g. '\\xx'\n",
    "//\n",
    "df= df.to_csv('modified.csv',index=False) #save csv to a path \n",
    "//\n",
    "new_df = new_df.reset_index(drop=True, inplace=True) #reset index\n",
    "//\n",
    "data = df.copy() #saves a copy of the data, so that original is not affected "
   ]
  },
  {
   "cell_type": "code",
   "execution_count": null,
   "metadata": {},
   "outputs": [],
   "source": [
    "STEP 1: Understand the basic structure of the data and simple stats \n",
    "//\n",
    "df.head() #insert the number of rows accordingly, otherwise it is by default 5 rows\n",
    "df.tail() #last rows\n",
    "//\n",
    "np.random.seed(1) #sets the same random samples each time\n",
    "df.sample(10).transpose() #random sample of 10 \n",
    "//\n",
    "df.shape #(r,c) \n",
    "print(f'There are {df.shape[0]} rows and {df.shape[1]} columns.') #r and c printed in full sentence \n",
    "//\n",
    "df.info() #datatypes \n",
    "df.dtypes() #datatypes \n",
    "//\n",
    "df.describe(include= 'all') #spread and distribution "
   ]
  },
  {
   "cell_type": "code",
   "execution_count": null,
   "metadata": {},
   "outputs": [],
   "source": [
    "Drop columns \n",
    "\n",
    "data.drop(columns=[\"ID\"], inplace=True) # Dropping column - ID"
   ]
  },
  {
   "cell_type": "code",
   "execution_count": null,
   "metadata": {},
   "outputs": [],
   "source": [
    "STEP 2: DEALING WITH UNITS & CHANGING DATA TYPES \n",
    "\n",
    "df['column name'] = df['column name'].astype('int') #apply a different data type to the whole column \n",
    "//\n",
    "df['mpg'] = 235/df['mpg'] #converting miles per gallon into litters per 100km\n",
    "df.rename(columns={'mpg': 'L/100km'},inplace=True) #renaming the column after converting the units\n",
    "//\n",
    "*Separation* \n",
    "df['column to be separated'].str.split(\" \") #split the column name into different parts \n",
    "numeric_column = df['column to be separated'].str.split(\" \", expand = True)[0].reset_index() #index accordingly \n",
    "numeric_column[0].value_counts() #identifies how many rows with null values \n",
    "fill = numeric_column[0].notna().mode()\n",
    "fill\n",
    "numeric_column[0].replace('null',1.0)\n",
    "numeric_column[numeric_column[0].isna()]\n",
    "//\n",
    "df['column to be split'].apply(lambda x: split(\" \")[0].lower()) #split according to index \n",
    "//\n",
    "# identify columns with units \n",
    "modify_cols = []\n",
    "for colname in df.columns[df.dtypes == 'object']:  # loop through string columns\n",
    "    if df[colname].str.endswith('Lakh').any():  \n",
    "        modify_cols.append(colname)\n",
    "    elif df[colname].str.endswith('CC').any():  \n",
    "        modify_cols.append(colname)\n",
    "    elif df[colname].str.endswith('bhp').any():  \n",
    "        modify_cols.append(colname)\n",
    "    elif df[colname].str.endswith('kmpl').any():  \n",
    "        modify_cols.append(colname)\n",
    "        \n",
    "df.[modify_cols]\n",
    "//\n",
    "*Replacement*\n",
    "def obj_to_num(obj_val):\n",
    "    \n",
    "    if isinstance(obj_val, str) and obj_val.find('null') == -1:\n",
    "        return float(obj_val.replace(\"kmpl\", \"\").replace(\"Lakh\", \"\").replace(\"bhp\", \"\")\n",
    "                     .replace(\"CC\", \"\").replace(\"km/kg\", \"\").replace(\"Cr\", \"\")) \n",
    "    \n",
    "    else: \n",
    "        return np.nan\n",
    "\n",
    "for colname in modify_cols:\n",
    "    df[colname] = df[colname].apply(obj_to_num)\n",
    "    \n",
    "df[modify_cols]\n",
    "\n",
    "*Conversion* \n",
    "Cannot split and drop all units, in case some units need conversions \n",
    "//\n",
    "data.columns =[col.replace(' ','_') for col in data.columns] #changing column names with spaces, dots, and hyphen \n",
    "data.columns =[col.replace('-','_') for col in data.columns]\n",
    "data.columns =[col.replace('.','_') for col in data.columns]\n",
    "//"
   ]
  },
  {
   "cell_type": "code",
   "execution_count": null,
   "metadata": {},
   "outputs": [],
   "source": [
    "STEP 2: MISSING VALUES \n",
    "    axis = 0 : rows \n",
    "    axis = 1 : columns \n",
    "        inplace = True # modifies the data directly \n",
    "    \n",
    "pd.DataFrame(data={\"% of Missing Values\": round(data.isna().sum() / data.isna().count() * 100, 2)}) #% of missing values\n",
    "\n",
    "df.isna().sum().sort_values(ascending = False) #identify missing values, also isnull\n",
    "//\n",
    "df.drop(columns=['column name 1','column name 2'],axis=1,inplace=True) #drop columns, start df in new kernel \n",
    "df = df.drop(columns=['column name 1','column name 2'],axis=1) #same as above, as df is the new data after dropping\n",
    "//\n",
    "nan_df = df[df.isna().any(axis=0)] \n",
    "//\n",
    "df = df.dropna(how='any') # drop any rows that contain NaN, or 'all'\n",
    "//\n",
    "mean = df['column name'].mean() #calculates mean of all values in the column \n",
    "df.['column name'].replace(np.nan, mean) #replaces the missing values (nan) with the mean (mean)\n",
    "//\n",
    "df.replace(\"?\", np.nan, inplace = True) # replace \"?\" to NaN \n",
    "//\n",
    "df.dropna(subset=[\"price\"], axis=0, inplace=True)#drop the whole row for which missing values are target variables \n",
    "df.reset_index(drop=True, inplace=True)  # reset index, after dropping rows\n",
    "//\n",
    "df[\"new_price_num\"] = df.groupby([\"Brand\", \"Model\"])[\"new_price_num\"].transform(\n",
    "    lambda x: x.fillna(x.median()) #fills in specific rows with the median of that category \n",
    "    \n",
    "//\n",
    "pd.DataFrame(data={\"% of Missing Values\": round(loan.isna().sum() / loan.isna().count() * 100, 2)}) #% of missing values\n"
   ]
  },
  {
   "cell_type": "code",
   "execution_count": null,
   "metadata": {},
   "outputs": [],
   "source": [
    "Step 4: DATA TRANSFORMATION: NORMAL DISTRIBUTION (reducing a highly skewed distribution to a normal distribution)\n",
    "    \n",
    "sns.histplot(df['column_name'],kde=True) #see the distribution, and it is not normal distribution, or use sin, cos, tan\n",
    "sns.histplot(np.log(df['column_name']),kde=True)#transform to normal distribution \n",
    "plt.xlabel(\"Log(column_name)\")\n",
    "\n",
    "df[\"column_name_log\"] = np.log(df[\"column_name\"]) #Creating a new column with the transformed variable after log \n",
    "plt.xlabel('Log(column_name)')\n",
    "//"
   ]
  },
  {
   "cell_type": "code",
   "execution_count": null,
   "metadata": {},
   "outputs": [],
   "source": [
    "Normalization: to make the variables comparable in range and scale\n",
    "    \n",
    "Xnew = df['length']\n",
    "\n",
    "1. Simple feature scaling : Xold / Xmax (0-1)\n",
    "df['length'] = df['length'] / df['length'].max()\n",
    "\n",
    "2. Min-max : Xold - Xmin / Xmax - Xmin \n",
    "df['length'] = (df['length'] - df['length'].min()) / (df['length'].max() - df['length'].min())\n",
    "\n",
    "3. Z-score : Xold - mean / SD \n",
    "df['length'] = (df['length'] - df['length'].mean()) / df['length'].std()"
   ]
  },
  {
   "cell_type": "code",
   "execution_count": null,
   "metadata": {},
   "outputs": [],
   "source": [
    "Binning: grouping values into groups, converts numeric to cateogorical variables, groups a set into another big set \n",
    "    \n",
    "bins = np.linspace(min(df['price'],max(df['price']),4)\n",
    "group_names = ['Low', 'Medium', 'High']\n",
    "df['priced_bins'] = pd.cut(pd.['price'],bins,labels=group_names,include_lowest=True\n",
    "                           \n",
    "//\n",
    "#plot after binning                          \n",
    "%matplotlib inline\n",
    "import matplotlib as plt\n",
    "from matplotlib import pyplot\n",
    "\n",
    "plt.pyplot.hist(df[\"horsepower\"], bins = 3) # draw historgram of attribute \"horsepower\" with bins = 3\n",
    "\n",
    "plt.pyplot.xlabel(\"horsepower\")\n",
    "plt.pyplot.ylabel(\"count\")\n",
    "plt.pyplot.title(\"horsepower bins\") # set x/y labels and plot title"
   ]
  },
  {
   "cell_type": "code",
   "execution_count": null,
   "metadata": {},
   "outputs": [],
   "source": [
    "One-hot encoding: turns categorical into quantifiable variables, assigns 1 or 0 in each cateogry \n",
    "\n",
    "dummy_variable = pd.get_dummies(df['fuel_type']) #get indicator variables and assign it to dataframe \"dummy_variable\"\n",
    "\n",
    "dummy_variable.rename(columns={'gas':'fuel-type-gas', 'diesel':'fuel-type-diesel'}, inplace=True) #rename columns \n",
    "\n",
    "df = pd.concat([df, dummy_variable], axis=1) # merge dataframe \"df\" and \"dummy_variable\" \n",
    "\n",
    "df.drop(\"fuel_type\", axis = 1, inplace=True) # drop original column \"fuel-type\" from \"df\""
   ]
  },
  {
   "cell_type": "code",
   "execution_count": null,
   "metadata": {},
   "outputs": [],
   "source": [
    "# pairplot \n",
    "sns.pairplot()\n",
    "\n",
    "#boxplot \n",
    "sns.boxplot(x='column name 1',y='column name 2',data=df)\n",
    "\n",
    "#scatter plot \n",
    "x = df['predictor_variable']\n",
    "y = df['target_variable']\n",
    "plt.scatter(x,y)\n",
    "\n",
    "plt.title('')\n",
    "plt.xlabel('')\n",
    "plt.ylabel('')\n",
    "\n",
    "#heat map \n",
    "plt.figure(figsize=(12, 7))\n",
    "sns.heatmap(df.corr(), annot=True, cmap=\"coolwarm\") #correlation b/w numeric variables only "
   ]
  },
  {
   "cell_type": "code",
   "execution_count": null,
   "metadata": {},
   "outputs": [],
   "source": [
    "# linear regression model building \n",
    "\n",
    "\n",
    "coef_df = pd.DataFrame(np.append(lin_reg_model2.coef_.flatten(), lin_reg_model2.intercept_), \\ \n",
    "                       index=x_train2.columns.tolist()+['Intercept'], \n",
    "                       columns=['Coefficients']) #the coefficients and intercept of the model\n"
   ]
  },
  {
   "cell_type": "code",
   "execution_count": null,
   "metadata": {},
   "outputs": [],
   "source": [
    "#access values \n",
    "\n",
    "df.columns #all columns \n",
    "//\n",
    "df['column name'] #all rows of a specific column \n",
    "df[['column name 1','column name 2']] #all rows of multiple columns \n",
    "df['column name'][10:21] #all rows of multiple columns in a range \n",
    "//\n",
    "df.iloc[10] #all columns of a specific row \n",
    "df.iloc[10:20] #multiple rows within a range \n",
    "df.iloc[10,5] #the specific column of a specific row\n",
    "//\n",
    "for index, row in df.iterrows():\n",
    "    print (index, row) #row by row \n",
    "for index, row in df.iterrows():\n",
    "    print (index, row['column name']) #rows from a specific column with an index \n",
    "//\n",
    "df.loc[df['column name'] == 'specific row'] #all the columns with a specific row of a specific column \n",
    "df.loc[(df['column 1'] == 'row name 1') & (df['column 2'] == 'row name 2') & so on] #and \n",
    "//\n",
    "df.loc[(df['column 1'] == 'row name 1') | (df['column 2'] == 'row name 2') | so on] #or \n",
    "//\n",
    "df.loc[df['column name'].str.contains('letters')] #returns all rows in columns that contain 'letters'\n",
    "df.loc[~df['column name'].str.contains('letters')] #drops rows with names that contain 'letters'\n",
    "//\n",
    "df.loc[df['column name'].str.contains('row 1|row 2')\n",
    "//\n",
    "df.loc[df['column name'] == 'row name','column name']  = 'new row name' #changing name of a specific row in a column \n",
    "//\n",
    "df.loc[df['column name'] > number, ['row 1','row 2']] = ['row name under row 1','row name under row 2']\n",
    "//\n",
    "df.sort_values('column name',ascending=False) #sort the rows alphabetically in a column \n",
    "df.sort_values(['column name 1','column name 2'],ascending=[1,0]) #sort multiple rows alphabetically or numerically \n",
    "//\n",
    "df[df['column name']== 'row name'] #returns all the rows with the name\n",
    "//\n",
    "df[df[\"column name\"].str.startswith(\"Specific Name\")] #returns rows that start with 'Specific Name'"
   ]
  },
  {
   "cell_type": "code",
   "execution_count": null,
   "metadata": {},
   "outputs": [],
   "source": [
    "#groupby: groups categorical variables, into categories, single or multiple\n",
    "\n",
    "df[['numeric variable','category']].groupby(['category'],as_index= False).mean()\n",
    "df_pivot = df_grp.pivot(index='sub_category',columns='category')\n",
    "//\n",
    "plt.pcolor(df_pivot, cmap='RaBu') #representing the grouped info from above using heatmap \n",
    "plt.colorbar()\n",
    "plt.show()\n",
    "//\n",
    "df.groupby(['column 1 as a category'])['column 2 as numeric value'].mean().sort_values('column 2',ascending=True) #also sort by count, sum \n",
    "//\n",
    "df.groupby(['column 1','column 2']).count()['column 3']"
   ]
  },
  {
   "cell_type": "code",
   "execution_count": null,
   "metadata": {},
   "outputs": [],
   "source": [
    "df['New column name'] = df['column 1'] + df['column 2'] + ... #adding up multiple similar numerical columns to form a new column\n",
    "df['New column name'] = df.iloc[:,5:10].sum(axis=1) #adding up a column range to form a new column with all rows \n",
    "//"
   ]
  },
  {
   "cell_type": "code",
   "execution_count": null,
   "metadata": {},
   "outputs": [],
   "source": [
    "# counting rows in a given column \n",
    "\n",
    "df['column name'].value_counts() #gives the values of all the rows in descending order \n",
    "df.column_name.value_counts().index #ranks the rows in descending order without giving the values \n",
    "\n",
    "# countplot \n",
    "\n",
    "sns.countplot(y='column name',data=df) #plots the graph on the y-axis, giving full space for the names \n",
    "sns.countplot(order=df['column name'].value_counts().index[::-1]) #in ascending level of popularity"
   ]
  },
  {
   "cell_type": "code",
   "execution_count": null,
   "metadata": {},
   "outputs": [],
   "source": [
    "#chi square testing: association of 2 categorical variables \n",
    "\n",
    "scipy.stats.chi2_contingency(cont_table, correlation = True)\n",
    "\n",
    "\n",
    "crosstab = pd.crosstab(loan['Income'],loan['Personal_Loan'])  # Contingency table of region and smoker attributes\n",
    "\n",
    "Ho = \"Income has no effect on Personal Loan\"   # Stating the Null Hypothesis\n",
    "Ha = \"Income has an effect on Personal Loan\"   # Stating the Alternate Hypothesis\n",
    "\n",
    "chi, p_value, dof, expected =  stats.chi2_contingency(crosstab)\n",
    "\n",
    "if p_value < 0.05:  # Setting our significance level at 5%\n",
    "    print(f'{Ha} as the p_value ({p_value.round(3)}) < 0.05')\n",
    "else:\n",
    "    print(f'{Ho} as the p_value ({p_value.round(3)}) > 0.05')"
   ]
  },
  {
   "cell_type": "code",
   "execution_count": null,
   "metadata": {},
   "outputs": [],
   "source": [
    "# Function to create barplots that indicate percentage for each category.\n",
    "\n",
    "def perc_on_bar(plot, feature):\n",
    "    '''\n",
    "    plot\n",
    "    feature: categorical feature\n",
    "    the function won't work if a column is passed in hue parameter\n",
    "    '''\n",
    "    total = len(feature) # length of the column\n",
    "    for p in ax.patches:\n",
    "        percentage = '{:.1f}%'.format(100 * p.get_height()/total) # percentage of each class of the category\n",
    "        x = p.get_x() + p.get_width() / 2 - 0.05 # width of the plot\n",
    "        y = p.get_y() + p.get_height()           # hieght of the plot\n",
    "        ax.annotate(percentage, (x, y), size = 12) # annotate the percantage \n",
    "    plt.show() # show the plot\n",
    "    \n",
    "\n",
    "plt.figure(figsize=(10,5))\n",
    "ax = sns.countplot(loan[\"Education\"],palette='winter')\n",
    "perc_on_bar(ax,loan[\"Education\"])"
   ]
  },
  {
   "cell_type": "code",
   "execution_count": null,
   "metadata": {},
   "outputs": [],
   "source": [
    "## Function to plot stacked bar chart\n",
    "\n",
    "def stacked_plot(x):\n",
    "    sns.set(palette='nipy_spectral')\n",
    "    tab1 = pd.crosstab(x,loan['Personal_Loan'],margins=True)\n",
    "    print(tab1)\n",
    "    print('-'*120)\n",
    "    tab = pd.crosstab(x,loan['Personal_Loan'],normalize='index')\n",
    "    tab.plot(kind='bar',stacked=True,figsize=(10,5))\n",
    "    #plt.legend(loc='lower left', frameon=False)\n",
    "    #plt.legend(loc=\"upper left\", bbox_to_anchor=(0,1))\n",
    "    plt.show()\n",
    "    \n",
    "stacked_plot(loan['Family'])"
   ]
  },
  {
   "cell_type": "code",
   "execution_count": null,
   "metadata": {},
   "outputs": [],
   "source": [
    "# This function takes the numerical column as the input and returns the boxplots and histograms for the variable.\n",
    "\n",
    "def histogram_boxplot(feature, figsize=(15,10), bins = None):\n",
    "    f2, (ax_box2, ax_hist2) = plt.subplots(nrows = 2, # Number of rows of the subplot grid= 2\n",
    "                                           sharex = True, # x-axis will be shared among all subplots\n",
    "                                           gridspec_kw = {\"height_ratios\": (.25, .75)}, \n",
    "                                           figsize = figsize \n",
    "                                           ) # creating the 2 subplots\n",
    "    sns.boxplot(feature, ax=ax_box2, showmeans=True, color='violet') # boxplot will be created and a star will indicate the mean value of the column\n",
    "    sns.distplot(feature, kde=F, ax=ax_hist2, bins=bins,palette=\"winter\") if bins else sns.distplot(feature, kde=False, ax=ax_hist2) # For histogram\n",
    "    ax_hist2.axvline(np.mean(feature), color='green', linestyle='--') # Add mean to the histogram\n",
    "    ax_hist2.axvline(np.median(feature), color='black', linestyle='-') # Add median to the histogram\n",
    "    \n",
    "histogram_boxplot(loan[\"Experience\"])"
   ]
  },
  {
   "cell_type": "code",
   "execution_count": null,
   "metadata": {},
   "outputs": [],
   "source": [
    "#simple linear regression model\n",
    "\n",
    "from sklearn.linear_model import LinearRegression\n",
    "lm = LinearRegression()\n",
    "\n",
    "x =df['predictor_variable']\n",
    "y =df['target_variable']\n",
    "\n",
    "lm.fit(x, y)\n",
    "yhat = lm.predict(x)\n",
    "\n",
    "lm.intercept_\n",
    "lm.coef_\n",
    "\n",
    "#multiple linear regression model \n",
    "\n"
   ]
  },
  {
   "cell_type": "code",
   "execution_count": 102,
   "metadata": {},
   "outputs": [],
   "source": [
    "#numpy \n",
    "\n",
    "a = np.array([1,2,3],dtype='int16')\n",
    "\n",
    "b = np.array([[9.0,8.0,7.0],[6.0,5.0,4.0]],dtype='float64')"
   ]
  },
  {
   "cell_type": "code",
   "execution_count": 103,
   "metadata": {},
   "outputs": [
    {
     "data": {
      "text/plain": [
       "48"
      ]
     },
     "execution_count": 103,
     "metadata": {},
     "output_type": "execute_result"
    }
   ],
   "source": [
    "#dimension \n",
    "a.ndim\n",
    "\n",
    "#shape\n",
    "b.shape\n",
    "\n",
    "#type & size \n",
    "b.dtype\n",
    "b.itemsize\n",
    "b.nbytes"
   ]
  },
  {
   "cell_type": "code",
   "execution_count": 108,
   "metadata": {},
   "outputs": [
    {
     "name": "stdout",
     "output_type": "stream",
     "text": [
      "[[ 1  2  3  4  5  6  7]\n",
      " [ 8  9 10 11 12 13 14]]\n"
     ]
    }
   ],
   "source": [
    "a = np.array([[1,2,3,4,5,6,7],[8,9,10,11,12,13,14]])\n",
    "print(a)"
   ]
  },
  {
   "cell_type": "code",
   "execution_count": 139,
   "metadata": {},
   "outputs": [
    {
     "name": "stdout",
     "output_type": "stream",
     "text": [
      "[[[1 2]\n",
      "  [3 4]]\n",
      "\n",
      " [[5 6]\n",
      "  [7 8]]]\n"
     ]
    }
   ],
   "source": [
    "a[1,5] #specific element [r,c]\n",
    "a[1,-2] #count backwards \n",
    "\n",
    "a[0,:] #specific row \n",
    "\n",
    "a[:,2] #specific column\n",
    "\n",
    "a[0,1:6:2] #startindex:endindex:stepsize\n",
    "a[0,1:-1:2] #backwards \n",
    "\n",
    "a[1,5] =20 #change element \n",
    "a[:,2]= [45]\n",
    "\n",
    "b = np.array([[[1,2],[3,4]],[[5,6],[7,8]]])\n",
    "print(b)\n",
    "\n",
    "b[0,1,1] #work outside in, 0 is for the first array \n",
    "\n",
    "b[:,0,1] #: is for both arrays, 0 applies to the first row for BOTH arrays, 1 applies to index 1 of that row  \n",
    "\n",
    "b[:,1,:] = [[8,10],[9,20]] #replace "
   ]
  },
  {
   "cell_type": "code",
   "execution_count": 179,
   "metadata": {},
   "outputs": [
    {
     "data": {
      "text/plain": [
       "array([[4, 4, 4, 4, 4, 4, 4],\n",
       "       [4, 4, 4, 4, 4, 4, 4]])"
      ]
     },
     "execution_count": 179,
     "metadata": {},
     "output_type": "execute_result"
    }
   ],
   "source": [
    "# all 0s matrix \n",
    "\n",
    "np.zeros((2,3,3))\n",
    "         \n",
    "# all 1s matrix \n",
    "np.ones((4,2,2),dtype='int16')\n",
    "\n",
    "#any other number \n",
    "np.full((2,2),99,dtype='float16')\n",
    "\n",
    "np.full(a.shape,4) #same as below \n",
    "np.full_like(a,4) #full_like "
   ]
  },
  {
   "cell_type": "code",
   "execution_count": 231,
   "metadata": {},
   "outputs": [],
   "source": [
    "# random decimal numbers \n",
    "np.random.rand(4,3)\n",
    "\n",
    "# random integers \n",
    "np.random.randint(10,82,size=(9,9))\n",
    "\n",
    "# identity matrix \n",
    "np.identity(3)\n",
    "\n",
    "# repeat an array \n",
    "arr = np.array([[1,2,3]])\n",
    "r1 = np.repeat(arr,3,axis=1) #axis = 1 shows one row , axis = 0 shows all columns \n",
    "\n",
    "# making an 5x5 array, with 1s and a 9 in the middle \n",
    "output = np.zeros((5,5))\n",
    "\n",
    "z = np.ones((3,3))\n",
    "z[1,1] = 9 \n",
    "\n",
    "output[1:-1,1:-1] = z \n",
    "output \n",
    "\n",
    "# copying arrays \n",
    "a = np.array([1,2,3])\n",
    "b = a.copy() #otherwise, a will be equal to b too \n",
    "b[0] =100"
   ]
  },
  {
   "cell_type": "code",
   "execution_count": 243,
   "metadata": {},
   "outputs": [
    {
     "data": {
      "text/plain": [
       "array([ 0.84147098,  0.90929743,  0.14112001, -0.7568025 ])"
      ]
     },
     "execution_count": 243,
     "metadata": {},
     "output_type": "execute_result"
    }
   ],
   "source": [
    "a = np.array([1,2,3,4])\n",
    "\n",
    "a + 2 \n",
    "a - 2\n",
    "a * 2\n",
    "a / 2\n",
    "a ** 2 \n",
    "\n",
    "b = np.array([1,0,6,9])\n",
    "\n",
    "a + b\n",
    "\n",
    "np.sin(a) #cos & tan"
   ]
  },
  {
   "cell_type": "code",
   "execution_count": 248,
   "metadata": {},
   "outputs": [
    {
     "data": {
      "text/plain": [
       "1.0"
      ]
     },
     "execution_count": 248,
     "metadata": {},
     "output_type": "execute_result"
    }
   ],
   "source": [
    "# linear algrebra \n",
    "\n",
    "a = np.ones((2,3))\n",
    "a\n",
    "\n",
    "b =np.full((3,2),2)\n",
    "b\n",
    "\n",
    "np.matmul(a,b) #matrix multiplication \n",
    "\n",
    "c = np.identity(3)\n",
    "np.linalg.det(c) #determinant "
   ]
  },
  {
   "cell_type": "code",
   "execution_count": 256,
   "metadata": {},
   "outputs": [
    {
     "data": {
      "text/plain": [
       "array([5, 7, 9])"
      ]
     },
     "execution_count": 256,
     "metadata": {},
     "output_type": "execute_result"
    }
   ],
   "source": [
    "# stats \n",
    "stats = np.array([[1,2,3],[4,5,6]])\n",
    "stats \n",
    "\n",
    "np.min(stats,axis=0)\n",
    "np.max(stats,axis=1)\n",
    "np.sum(stats,axis=0\n"
   ]
  },
  {
   "cell_type": "code",
   "execution_count": 263,
   "metadata": {},
   "outputs": [
    {
     "data": {
      "text/plain": [
       "array([[[1, 2],\n",
       "        [3, 4]],\n",
       "\n",
       "       [[5, 6],\n",
       "        [7, 8]]])"
      ]
     },
     "execution_count": 263,
     "metadata": {},
     "output_type": "execute_result"
    }
   ],
   "source": [
    "before = np.array([[1,2,3,4],[5,6,7,8]])\n",
    "before\n",
    "\n",
    "after = before.reshape((2,2,2))\n",
    "after"
   ]
  },
  {
   "cell_type": "code",
   "execution_count": 280,
   "metadata": {},
   "outputs": [
    {
     "data": {
      "text/plain": [
       "array([[1., 1., 1., 1., 0., 0., 0., 0., 0., 0., 0., 0.],\n",
       "       [1., 1., 1., 1., 0., 0., 0., 0., 0., 0., 0., 0.]])"
      ]
     },
     "execution_count": 280,
     "metadata": {},
     "output_type": "execute_result"
    }
   ],
   "source": [
    "# vertically stacking vectors, number of columns must be the same \n",
    "v1 = np.array([1,2,3,4])\n",
    "v2 = np.array([5,6,7,8])\n",
    "\n",
    "np.vstack([v1,v2,v2,v1,v1,v2])\n",
    "\n",
    "# horizontal stacking, number of rows must match \n",
    "\n",
    "h1 = np.ones((2,4))\n",
    "h2 = np.zeros((2,8))\n",
    "\n",
    "np.hstack([h1,h2])"
   ]
  },
  {
   "cell_type": "code",
   "execution_count": null,
   "metadata": {},
   "outputs": [],
   "source": [
    "#load data \n",
    "filedata = np.genfromtext('filename.txt',delimiter=',')\n",
    "filedata.astype('int32')\n",
    "filedata = filedata.astype('int32')\n",
    "\n",
    "#boolean masking and advanced indexing \n",
    "filedata >= 50 # returns False or True \n",
    "filedata[filedata > 50] # returns the wanted values that are True \n",
    "\n",
    "a = np.array([1,2,3,4,5,6,7,8,9])\n",
    "a[[1,2,8]]\n",
    "\n",
    "np.any(filedata > 50, axis=0)\n",
    "np.all(filedata >= 50, axis=1)\n",
    "\n",
    "((filedata > 50) & (filedata < 100))\n",
    "(~((filedata > 50) & (filedata < 100)))\n"
   ]
  },
  {
   "cell_type": "code",
   "execution_count": 235,
   "metadata": {},
   "outputs": [],
   "source": [
    "# for loops : definite iterations \n",
    "\n",
    "def main():\n",
    "    for i in range(4): #4 iterations of the three actions in the body statement, executes on number of times \n",
    "        put_beeper()\n",
    "        move()\n",
    "        turn_left()\n",
    "        \n",
    "# while loops: indefinite loop, the condition is checked at the start and at the end before checking again \n",
    "# while loops: pre and post conditions are the same, so it can be repeated when checked again\n",
    "# infinite loop: never ends \n",
    "\n",
    "def main():\n",
    "    while front_is_clear(): #execute the statements as long as condition is true, executes on bolean \n",
    "        put_beeper()\n",
    "        move()\n",
    "    put_beeper() #not in the body statement, thus executes when condition is false # fence post problem \n",
    "    \n",
    "# if-else statements # only one of the conditions that verifies as true will be executed \n",
    "\n",
    "    #gd function: does one conceptual thing, descriptive name that does as such, indented 3 levels, few than 10 lines\n",
    "    #gd function: reusable, easily modifiable, well commented \n",
    "    \n",
    "def main(): \n",
    "    if front_is_clear():\n",
    "        move()\n",
    "    elif: \n",
    "        pick_beeper()\n",
    "    else:\n",
    "        put_beeper()\n",
    "        \n",
    "input = input('What is your name?')"
   ]
  },
  {
   "cell_type": "code",
   "execution_count": null,
   "metadata": {},
   "outputs": [],
   "source": [
    "# styling of plots \n",
    "\n",
    "fmt='[color][marker][line]'\n",
    "color='skyblue' or 'y' or '#ababab'\n",
    "palette='twilight'\n",
    "lw=4 #thickness of line around bar \n",
    "ec='black' #color of line around bar \n",
    "hatch='/' #pattern on the bar \n",
    "marker='.'\n",
    "markersize\n",
    "markeredgecolor\n",
    "line\n",
    "\n",
    "fontdict={'fontname':'Comic Sans MS','fontsize':50} #font type and size \n",
    "nice fonts:Bradley Hand;Chalkduster;DIN Alternate;Silom;Skia;\n",
    "    Zapfino;Arial Rounded MT Bold;Apple Chancery;Herculanum;Trattatello"
   ]
  },
  {
   "cell_type": "code",
   "execution_count": 74,
   "metadata": {},
   "outputs": [
    {
     "data": {
      "image/png": "[encoded data removed]",
      "text/plain": [
       "<Figure size 500x400 with 1 Axes>"
      ]
     },
     "metadata": {
      "needs_background": "light"
     },
     "output_type": "display_data"
    }
   ],
   "source": [
    "#basic graph \n",
    "\n",
    "x=[0,1,2,3,4]\n",
    "y=[0,2,4,6,8]\n",
    "\n",
    "# resize graph with dpi, the resolution \n",
    "plt.figure(figsize=(5,4),dpi=100)\n",
    "\n",
    "#line 1, fmt, keyward argument notation, separate with commas \n",
    "plt.plot(x,y,'bo--',label='2x')\n",
    "\n",
    "#line 2, with interval \n",
    "x2=np.arange(0,4.5,0.5)\n",
    "#plot part of graph as line \n",
    "plt.plot(x2[:6],x2[:6]**2,\"r\",label='x^2')\n",
    "#plot part of graph as dot \n",
    "plt.plot(x2[5:],x2[5:]**2,'r--')\n",
    "\n",
    "#title \n",
    "plt.title('Basic Graph',fontdict={'fontname':'Trattatello','fontsize':18})\n",
    "#axis labels\n",
    "plt.xlabel('x Axis')\n",
    "plt.ylabel('y Axis')\n",
    "#axis scale \n",
    "plt.xticks([0,1,2,3,4])\n",
    "plt.yticks([0,2,4,6,8,10])\n",
    "#legend \n",
    "plt.legend()\n",
    "#can save with a different dpi \n",
    "plt.savefig('basicgraph.png',dpi=500)\n",
    "#show\n",
    "plt.show()"
   ]
  },
  {
   "cell_type": "code",
   "execution_count": 76,
   "metadata": {},
   "outputs": [
    {
     "data": {
      "image/png": "[encoded data removed]",
      "text/plain": [
       "<Figure size 432x288 with 1 Axes>"
      ]
     },
     "metadata": {
      "needs_background": "light"
     },
     "output_type": "display_data"
    },
    {
     "data": {
      "text/plain": [
       "<Figure size 360x216 with 0 Axes>"
      ]
     },
     "metadata": {},
     "output_type": "display_data"
    }
   ],
   "source": [
    "#bar chart \n",
    "\n",
    "labels = ['A','B','C']\n",
    "values = [1,4,2]\n",
    "\n",
    "bars = plt.bar(labels,values)\n",
    "\n",
    "#patterns one by one \n",
    "bars[0].set_hatch('/')\n",
    "bars[1].set_hatch('o')\n",
    "bars[2].set_hatch('*')\n",
    "\n",
    "#or for loop patterns \n",
    "patterns = ['/','o','*']\n",
    "for bar in bars: \n",
    "    bar.set_hatch(patterns.pop(0))\n",
    "\n",
    "plt.figure(figsize=(5,3))\n",
    "\n",
    "plt.show()"
   ]
  },
  {
   "cell_type": "code",
   "execution_count": null,
   "metadata": {},
   "outputs": [],
   "source": []
  },
  {
   "cell_type": "code",
   "execution_count": null,
   "metadata": {},
   "outputs": [],
   "source": []
  }
 ],
 "metadata": {
  "kernelspec": {
   "display_name": "Python 3",
   "language": "python",
   "name": "python3"
  },
  "language_info": {
   "codemirror_mode": {
    "name": "ipython",
    "version": 3
   },
   "file_extension": ".py",
   "mimetype": "text/x-python",
   "name": "python",
   "nbconvert_exporter": "python",
   "pygments_lexer": "ipython3",
   "version": "3.8.5"
  }
 },
 "nbformat": 4,
 "nbformat_minor": 4
}
